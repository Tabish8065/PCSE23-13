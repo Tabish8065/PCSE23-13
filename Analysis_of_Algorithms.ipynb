{
  "cells": [
    {
      "cell_type": "code",
      "execution_count": null,
      "metadata": {
        "colab": {
          "base_uri": "https://localhost:8080/"
        },
        "id": "W7gfh99nVgkp",
        "outputId": "2f920d4a-3a8a-49b4-836b-484b6f0fbd67"
      },
      "outputs": [
        {
          "output_type": "stream",
          "name": "stderr",
          "text": [
            "[nltk_data] Downloading package stopwords to /root/nltk_data...\n",
            "[nltk_data]   Package stopwords is already up-to-date!\n"
          ]
        }
      ],
      "source": [
        "import pandas as pd\n",
        "import numpy as np\n",
        "from sklearn.model_selection import train_test_split\n",
        "from mlxtend.plotting import plot_confusion_matrix\n",
        "from sklearn.svm import SVC, LinearSVC, NuSVC\n",
        "from sklearn.tree import DecisionTreeClassifier\n",
        "from sklearn.ensemble import RandomForestClassifier\n",
        "from sklearn.metrics import accuracy_score,confusion_matrix,classification_report\n",
        "from sklearn.model_selection import train_test_split\n",
        "from __future__ import division\n",
        "from collections import Counter\n",
        "from nltk.corpus import stopwords\n",
        "import nltk\n",
        "nltk.download(\"stopwords\")\n",
        "import string\n",
        "import re\n",
        "from sklearn.feature_extraction.text import CountVectorizer"
      ]
    },
    {
      "cell_type": "markdown",
      "source": [
        "# New Section"
      ],
      "metadata": {
        "id": "uutUW-LKN68u"
      }
    },
    {
      "cell_type": "code",
      "execution_count": null,
      "metadata": {
        "colab": {
          "base_uri": "https://localhost:8080/"
        },
        "id": "ZEIEnY4Kccqw",
        "outputId": "dd5a5fca-938b-48f4-b33b-67d7c20a6f07"
      },
      "outputs": [
        {
          "name": "stdout",
          "output_type": "stream",
          "text": [
            "<class 'pandas.core.frame.DataFrame'>\n",
            "RangeIndex: 1600000 entries, 0 to 1599999\n",
            "Data columns (total 2 columns):\n",
            " #   Column    Non-Null Count    Dtype \n",
            "---  ------    --------------    ----- \n",
            " 0   Analysis  1600000 non-null  object\n",
            " 1   text      1600000 non-null  object\n",
            "dtypes: object(2)\n",
            "memory usage: 24.4+ MB\n"
          ]
        }
      ],
      "source": [
        "#Copying the data into the dataframe\n",
        "\n",
        "col_names = [\"target\", \"ids\", \"date\", \"flag\", \"user\", \"text\"]\n",
        "df = pd.read_csv('/content/drive/MyDrive/training.1600000.processed.noemoticon.csv',encoding = \"ISO-8859-1\",names=col_names)\n",
        "df = df.drop(['ids','date','flag','user'],axis=1)\n",
        "df['target']=df['target'].replace(4,'Positive')\n",
        "df['target']=df['target'].replace(0,'Negative')\n",
        "df.rename(columns = {'target':'Analysis'}, inplace = True)\n",
        "df.info()"
      ]
    },
    {
      "cell_type": "code",
      "source": [
        "#For dataset 2\n",
        "\n",
        "col_names = [\"Id\",\"Tweets\",\"text\",\"Sentiment\"]\n",
        "df = pd.read_csv('/content/drive/MyDrive/Dataset/Tweets - Tweets.csv',encoding = \"ISO-8859-1\",names=col_names)"
      ],
      "metadata": {
        "id": "jHhaM05pX2SQ"
      },
      "execution_count": null,
      "outputs": []
    },
    {
      "cell_type": "code",
      "source": [
        "# /content/drive/MyDrive/Dataset/twitter_training.csv\n",
        "#For dataset 3\n",
        "\n",
        "col_names = [\"Id\",\"Unwanted\",\"Sentiment\",\"text\"]\n",
        "df = pd.read_csv('/content/drive/MyDrive/Dataset/twitter_training.csv',encoding = \"ISO-8859-1\",names=col_names)"
      ],
      "metadata": {
        "id": "vICArOcgpnhe"
      },
      "execution_count": null,
      "outputs": []
    },
    {
      "cell_type": "code",
      "source": [
        "# text_df = df.drop(columns=df.columns[0],axis=1)\n",
        "# text_df = text_df.reset_index(drop=True)\n",
        "text_df = df.drop([\"Unwanted\",\"Id\"],axis=1)\n",
        "text_df.rename(columns = {'Sentiment':'Analysis'}, inplace = True)\n",
        "text_df = text_df.sample(n=20000)\n",
        "text_df.head()\n",
        "text_df.info()"
      ],
      "metadata": {
        "id": "QNwbYaJBYDpX",
        "colab": {
          "base_uri": "https://localhost:8080/"
        },
        "outputId": "5eb0901e-8180-413d-ae39-e61a09149925"
      },
      "execution_count": null,
      "outputs": [
        {
          "output_type": "stream",
          "name": "stdout",
          "text": [
            "<class 'pandas.core.frame.DataFrame'>\n",
            "Int64Index: 20000 entries, 9545 to 50326\n",
            "Data columns (total 2 columns):\n",
            " #   Column    Non-Null Count  Dtype \n",
            "---  ------    --------------  ----- \n",
            " 0   Analysis  20000 non-null  object\n",
            " 1   text      19811 non-null  object\n",
            "dtypes: object(2)\n",
            "memory usage: 468.8+ KB\n"
          ]
        }
      ]
    },
    {
      "cell_type": "code",
      "execution_count": null,
      "metadata": {
        "id": "KKjgV0PPV8V4"
      },
      "outputs": [],
      "source": [
        "tweets = pd.read_csv('/content/drive/MyDrive/flag1.csv')\n",
        "tweets = tweets.reset_index(drop=True)\n",
        "tweets = tweets.drop(columns=tweets.columns[0],axis=1)\n",
        "text_df = tweets.sample(n=5000)#df.sample(n=10000)\n",
        "#text_df = df.iloc[1000:2000,0:2]\n",
        "#text_df.info()"
      ]
    },
    {
      "cell_type": "code",
      "execution_count": null,
      "metadata": {
        "colab": {
          "base_uri": "https://localhost:8080/",
          "height": 206
        },
        "id": "SKbA1QkkWoSz",
        "outputId": "43b48ee9-26a8-434b-dc65-5f09e1c05ecf"
      },
      "outputs": [
        {
          "output_type": "execute_result",
          "data": {
            "text/plain": [
              "         Analysis                                               text\n",
              "9545     Negative                                        Very Please\n",
              "39319  Irrelevant  Ban Komaeda from any tournament that has ever ...\n",
              "74016    Positive    This is insane! Makes me want to upgrade my GPU\n",
              "52907     Neutral  Picture this: Prey Party with the story of Red...\n",
              "278      Positive    YOOOOOOOOO i'm actually so hyped for this movie"
            ],
            "text/html": [
              "\n",
              "  <div id=\"df-453bfe46-c54f-4e45-8be7-a19b195b1b28\">\n",
              "    <div class=\"colab-df-container\">\n",
              "      <div>\n",
              "<style scoped>\n",
              "    .dataframe tbody tr th:only-of-type {\n",
              "        vertical-align: middle;\n",
              "    }\n",
              "\n",
              "    .dataframe tbody tr th {\n",
              "        vertical-align: top;\n",
              "    }\n",
              "\n",
              "    .dataframe thead th {\n",
              "        text-align: right;\n",
              "    }\n",
              "</style>\n",
              "<table border=\"1\" class=\"dataframe\">\n",
              "  <thead>\n",
              "    <tr style=\"text-align: right;\">\n",
              "      <th></th>\n",
              "      <th>Analysis</th>\n",
              "      <th>text</th>\n",
              "    </tr>\n",
              "  </thead>\n",
              "  <tbody>\n",
              "    <tr>\n",
              "      <th>9545</th>\n",
              "      <td>Negative</td>\n",
              "      <td>Very Please</td>\n",
              "    </tr>\n",
              "    <tr>\n",
              "      <th>39319</th>\n",
              "      <td>Irrelevant</td>\n",
              "      <td>Ban Komaeda from any tournament that has ever ...</td>\n",
              "    </tr>\n",
              "    <tr>\n",
              "      <th>74016</th>\n",
              "      <td>Positive</td>\n",
              "      <td>This is insane! Makes me want to upgrade my GPU</td>\n",
              "    </tr>\n",
              "    <tr>\n",
              "      <th>52907</th>\n",
              "      <td>Neutral</td>\n",
              "      <td>Picture this: Prey Party with the story of Red...</td>\n",
              "    </tr>\n",
              "    <tr>\n",
              "      <th>278</th>\n",
              "      <td>Positive</td>\n",
              "      <td>YOOOOOOOOO i'm actually so hyped for this movie</td>\n",
              "    </tr>\n",
              "  </tbody>\n",
              "</table>\n",
              "</div>\n",
              "      <button class=\"colab-df-convert\" onclick=\"convertToInteractive('df-453bfe46-c54f-4e45-8be7-a19b195b1b28')\"\n",
              "              title=\"Convert this dataframe to an interactive table.\"\n",
              "              style=\"display:none;\">\n",
              "        \n",
              "  <svg xmlns=\"http://www.w3.org/2000/svg\" height=\"24px\"viewBox=\"0 0 24 24\"\n",
              "       width=\"24px\">\n",
              "    <path d=\"M0 0h24v24H0V0z\" fill=\"none\"/>\n",
              "    <path d=\"M18.56 5.44l.94 2.06.94-2.06 2.06-.94-2.06-.94-.94-2.06-.94 2.06-2.06.94zm-11 1L8.5 8.5l.94-2.06 2.06-.94-2.06-.94L8.5 2.5l-.94 2.06-2.06.94zm10 10l.94 2.06.94-2.06 2.06-.94-2.06-.94-.94-2.06-.94 2.06-2.06.94z\"/><path d=\"M17.41 7.96l-1.37-1.37c-.4-.4-.92-.59-1.43-.59-.52 0-1.04.2-1.43.59L10.3 9.45l-7.72 7.72c-.78.78-.78 2.05 0 2.83L4 21.41c.39.39.9.59 1.41.59.51 0 1.02-.2 1.41-.59l7.78-7.78 2.81-2.81c.8-.78.8-2.07 0-2.86zM5.41 20L4 18.59l7.72-7.72 1.47 1.35L5.41 20z\"/>\n",
              "  </svg>\n",
              "      </button>\n",
              "      \n",
              "  <style>\n",
              "    .colab-df-container {\n",
              "      display:flex;\n",
              "      flex-wrap:wrap;\n",
              "      gap: 12px;\n",
              "    }\n",
              "\n",
              "    .colab-df-convert {\n",
              "      background-color: #E8F0FE;\n",
              "      border: none;\n",
              "      border-radius: 50%;\n",
              "      cursor: pointer;\n",
              "      display: none;\n",
              "      fill: #1967D2;\n",
              "      height: 32px;\n",
              "      padding: 0 0 0 0;\n",
              "      width: 32px;\n",
              "    }\n",
              "\n",
              "    .colab-df-convert:hover {\n",
              "      background-color: #E2EBFA;\n",
              "      box-shadow: 0px 1px 2px rgba(60, 64, 67, 0.3), 0px 1px 3px 1px rgba(60, 64, 67, 0.15);\n",
              "      fill: #174EA6;\n",
              "    }\n",
              "\n",
              "    [theme=dark] .colab-df-convert {\n",
              "      background-color: #3B4455;\n",
              "      fill: #D2E3FC;\n",
              "    }\n",
              "\n",
              "    [theme=dark] .colab-df-convert:hover {\n",
              "      background-color: #434B5C;\n",
              "      box-shadow: 0px 1px 3px 1px rgba(0, 0, 0, 0.15);\n",
              "      filter: drop-shadow(0px 1px 2px rgba(0, 0, 0, 0.3));\n",
              "      fill: #FFFFFF;\n",
              "    }\n",
              "  </style>\n",
              "\n",
              "      <script>\n",
              "        const buttonEl =\n",
              "          document.querySelector('#df-453bfe46-c54f-4e45-8be7-a19b195b1b28 button.colab-df-convert');\n",
              "        buttonEl.style.display =\n",
              "          google.colab.kernel.accessAllowed ? 'block' : 'none';\n",
              "\n",
              "        async function convertToInteractive(key) {\n",
              "          const element = document.querySelector('#df-453bfe46-c54f-4e45-8be7-a19b195b1b28');\n",
              "          const dataTable =\n",
              "            await google.colab.kernel.invokeFunction('convertToInteractive',\n",
              "                                                     [key], {});\n",
              "          if (!dataTable) return;\n",
              "\n",
              "          const docLinkHtml = 'Like what you see? Visit the ' +\n",
              "            '<a target=\"_blank\" href=https://colab.research.google.com/notebooks/data_table.ipynb>data table notebook</a>'\n",
              "            + ' to learn more about interactive tables.';\n",
              "          element.innerHTML = '';\n",
              "          dataTable['output_type'] = 'display_data';\n",
              "          await google.colab.output.renderOutput(dataTable, element);\n",
              "          const docLink = document.createElement('div');\n",
              "          docLink.innerHTML = docLinkHtml;\n",
              "          element.appendChild(docLink);\n",
              "        }\n",
              "      </script>\n",
              "    </div>\n",
              "  </div>\n",
              "  "
            ]
          },
          "metadata": {},
          "execution_count": 64
        }
      ],
      "source": [
        "text_df.head()"
      ]
    },
    {
      "cell_type": "code",
      "execution_count": null,
      "metadata": {
        "id": "xcc2tgpcWryb"
      },
      "outputs": [],
      "source": [
        "vect = CountVectorizer(ngram_range=(1,2)).fit(text_df['text'].values.astype('U'))\n",
        "#1.13"
      ]
    },
    {
      "cell_type": "code",
      "execution_count": null,
      "metadata": {
        "colab": {
          "base_uri": "https://localhost:8080/"
        },
        "id": "Ig3UwCh3W_E5",
        "outputId": "d94c14d3-1fb9-4861-bc24-42cf57b697bc"
      },
      "outputs": [
        {
          "output_type": "stream",
          "name": "stdout",
          "text": [
            "Number of features: 171663\n",
            "\n",
            "Frist 20 features:\n",
            "['00', '00 00', '00 000', '00 11', '00 30', '00 ad', '00 aest', '00 am', '00 bit', '00 bst', '00 die', '00 ebay', '00 edt', '00 en', '00 est', '00 from', '00 less', '00 mad', '00 on', '00 our']\n"
          ]
        },
        {
          "output_type": "stream",
          "name": "stderr",
          "text": [
            "/usr/local/lib/python3.8/dist-packages/sklearn/utils/deprecation.py:87: FutureWarning: Function get_feature_names is deprecated; get_feature_names is deprecated in 1.0 and will be removed in 1.2. Please use get_feature_names_out instead.\n",
            "  warnings.warn(msg, category=FutureWarning)\n"
          ]
        }
      ],
      "source": [
        "feature_names = vect.get_feature_names()\n",
        "print(\"Number of features: {}\\n\".format(len(feature_names)))\n",
        "print(\"Frist 20 features:\\n{}\".format(feature_names[:20]))"
      ]
    },
    {
      "cell_type": "code",
      "execution_count": null,
      "metadata": {
        "id": "io_yYAwpXbpk"
      },
      "outputs": [],
      "source": [
        "X = text_df['text'].values.astype('U')\n",
        "Y = text_df['Analysis']\n",
        "X = vect.transform(X)\n",
        "# .38"
      ]
    },
    {
      "cell_type": "code",
      "execution_count": null,
      "metadata": {
        "colab": {
          "base_uri": "https://localhost:8080/"
        },
        "id": "gkYGaJYLX2gr",
        "outputId": "993f1315-2f29-46cd-f588-768baf03f118"
      },
      "outputs": [
        {
          "output_type": "stream",
          "name": "stdout",
          "text": [
            "Size of x_train: (16000, 171663)\n",
            "Size of x_test: (4000, 171663)\n",
            "Size of y_train: (16000,)\n",
            "Size of y_test: (4000,)\n"
          ]
        }
      ],
      "source": [
        "x_train, x_test, y_train, y_test = train_test_split(X, Y, test_size=0.20, random_state=1)\n",
        "print(\"Size of x_train:\",(x_train.shape))\n",
        "print(\"Size of x_test:\",(x_test.shape))\n",
        "print(\"Size of y_train:\",(y_train.shape))\n",
        "print(\"Size of y_test:\",(y_test.shape))"
      ]
    },
    {
      "cell_type": "code",
      "execution_count": null,
      "metadata": {
        "colab": {
          "base_uri": "https://localhost:8080/"
        },
        "id": "Buc4xV2qYEug",
        "outputId": "debf8526-7b34-4032-97a3-895d8646dfee"
      },
      "outputs": [
        {
          "output_type": "execute_result",
          "data": {
            "text/plain": [
              "<16000x171663 sparse matrix of type '<class 'numpy.int64'>'\n",
              "\twith 525401 stored elements in Compressed Sparse Row format>"
            ]
          },
          "metadata": {},
          "execution_count": 69
        }
      ],
      "source": [
        "x_train"
      ]
    },
    {
      "cell_type": "code",
      "execution_count": null,
      "metadata": {
        "id": "ZW3SD_rqoi7f"
      },
      "outputs": [],
      "source": [
        "import collections\n",
        "dict ={}"
      ]
    },
    {
      "cell_type": "code",
      "execution_count": null,
      "metadata": {
        "colab": {
          "base_uri": "https://localhost:8080/"
        },
        "id": "WnSoQv2BYpQv",
        "outputId": "412a078d-6208-4a5f-d405-baa16c5994bf"
      },
      "outputs": [
        {
          "output_type": "stream",
          "name": "stdout",
          "text": [
            "0.74975\n",
            "[[ 401   83   53  130]\n",
            " [  29 1009   66  125]\n",
            " [  42  110  707  134]\n",
            " [  51   83   95  882]]\n",
            "\n",
            "\n",
            "              precision    recall  f1-score   support\n",
            "\n",
            "  Irrelevant       0.77      0.60      0.67       667\n",
            "    Negative       0.79      0.82      0.80      1229\n",
            "     Neutral       0.77      0.71      0.74       993\n",
            "    Positive       0.69      0.79      0.74      1111\n",
            "\n",
            "    accuracy                           0.75      4000\n",
            "   macro avg       0.75      0.73      0.74      4000\n",
            "weighted avg       0.75      0.75      0.75      4000\n",
            "\n"
          ]
        }
      ],
      "source": [
        "from sklearn.linear_model import LogisticRegression\n",
        "logreg = LogisticRegression(max_iter=1600000)\n",
        "logreg.fit(x_train,y_train)\n",
        "logres_pred = logreg.predict(x_test)\n",
        "logreg_acc = accuracy_score(logres_pred, y_test)\n",
        "print(logreg_acc)\n",
        "dict['LogesticRegression'] = (logreg_acc*100)\n",
        "print(confusion_matrix(y_test,logres_pred))\n",
        "print(\"\\n\")\n",
        "print(classification_report(y_test,logres_pred))"
      ]
    },
    {
      "cell_type": "code",
      "execution_count": null,
      "metadata": {
        "id": "UmvRpC2YCnUh"
      },
      "outputs": [],
      "source": [
        "# from sklearn.naive_bayes import GaussianNB\n",
        "# nb = GaussianNB()\n",
        "# nb.fit(x_train.toarray(), y_train)\n",
        "# nb_pred = nb.predict(x_test.toarray())\n",
        "# acc = accuracy_score(nb_pred, y_test)\n",
        "# print(acc)\n",
        "# dict['Naive Bayes Gausian'] = acc*100\n",
        "# print(\"\\n\")\n",
        "# print(confusion_matrix(y_test,nb_pred))\n",
        "# print(\"\\n\")\n",
        "# print(classification_report(y_test,nb_pred))"
      ]
    },
    {
      "cell_type": "code",
      "execution_count": null,
      "metadata": {
        "colab": {
          "base_uri": "https://localhost:8080/"
        },
        "id": "kamC3XkNavej",
        "outputId": "b36582ec-1a59-4b4b-e157-4901b9e876b8"
      },
      "outputs": [
        {
          "output_type": "stream",
          "name": "stdout",
          "text": [
            "0.58175\n",
            "\n",
            "\n",
            "[[195 167  54 251]\n",
            " [ 74 921  43 191]\n",
            " [ 77 232 440 244]\n",
            " [ 64 189  87 771]]\n",
            "\n",
            "\n",
            "              precision    recall  f1-score   support\n",
            "\n",
            "  Irrelevant       0.48      0.29      0.36       667\n",
            "    Negative       0.61      0.75      0.67      1229\n",
            "     Neutral       0.71      0.44      0.54       993\n",
            "    Positive       0.53      0.69      0.60      1111\n",
            "\n",
            "    accuracy                           0.58      4000\n",
            "   macro avg       0.58      0.54      0.54      4000\n",
            "weighted avg       0.59      0.58      0.57      4000\n",
            "\n"
          ]
        }
      ],
      "source": [
        "#SVM on sigmoid Kernel\n",
        "from sklearn.svm import SVC\n",
        "svm = SVC(kernel='sigmoid')\n",
        "svm.fit(x_train, y_train)\n",
        "svm_pred = svm.predict(x_test)\n",
        "acc = accuracy_score(svm_pred, y_test)\n",
        "print(acc)\n",
        "dict['Support Vector Machine Sigmoid'] = acc*100\n",
        "print(\"\\n\")\n",
        "print(confusion_matrix(y_test,svm_pred))\n",
        "print(\"\\n\")\n",
        "print(classification_report(y_test,svm_pred))"
      ]
    },
    {
      "cell_type": "code",
      "execution_count": null,
      "metadata": {
        "colab": {
          "base_uri": "https://localhost:8080/"
        },
        "id": "T6RAq3GaavNt",
        "outputId": "b06d0cfd-4878-4a3a-ce8f-3fce98bf5512"
      },
      "outputs": [
        {
          "output_type": "stream",
          "name": "stdout",
          "text": [
            "0.66075\n",
            "\n",
            "\n",
            "[[220 154  60 233]\n",
            " [ 14 981  40 194]\n",
            " [ 24 167 568 234]\n",
            " [ 20 117 100 874]]\n",
            "\n",
            "\n",
            "              precision    recall  f1-score   support\n",
            "\n",
            "  Irrelevant       0.79      0.33      0.47       667\n",
            "    Negative       0.69      0.80      0.74      1229\n",
            "     Neutral       0.74      0.57      0.65       993\n",
            "    Positive       0.57      0.79      0.66      1111\n",
            "\n",
            "    accuracy                           0.66      4000\n",
            "   macro avg       0.70      0.62      0.63      4000\n",
            "weighted avg       0.69      0.66      0.65      4000\n",
            "\n"
          ]
        }
      ],
      "source": [
        "#SVM on rbf Kernel\n",
        "from sklearn.svm import SVC\n",
        "svm = SVC(kernel='rbf')\n",
        "svm.fit(x_train, y_train)\n",
        "svm_pred = svm.predict(x_test)\n",
        "acc = accuracy_score(svm_pred, y_test)\n",
        "print(acc)\n",
        "dict['Support Vector Machine RBF'] = acc*100\n",
        "print(\"\\n\")\n",
        "print(confusion_matrix(y_test,svm_pred))\n",
        "print(\"\\n\")\n",
        "print(classification_report(y_test,svm_pred))"
      ]
    },
    {
      "cell_type": "code",
      "execution_count": null,
      "metadata": {
        "colab": {
          "base_uri": "https://localhost:8080/"
        },
        "id": "_uc8VqTEau61",
        "outputId": "f18cae48-12de-4bf9-aef9-922dd52cd398"
      },
      "outputs": [
        {
          "output_type": "stream",
          "name": "stdout",
          "text": [
            "0.7135\n",
            "\n",
            "\n",
            "[[405  78  55 129]\n",
            " [ 55 956  85 133]\n",
            " [ 73 111 672 137]\n",
            " [ 90 100 100 821]]\n",
            "\n",
            "\n",
            "              precision    recall  f1-score   support\n",
            "\n",
            "  Irrelevant       0.65      0.61      0.63       667\n",
            "    Negative       0.77      0.78      0.77      1229\n",
            "     Neutral       0.74      0.68      0.71       993\n",
            "    Positive       0.67      0.74      0.70      1111\n",
            "\n",
            "    accuracy                           0.71      4000\n",
            "   macro avg       0.71      0.70      0.70      4000\n",
            "weighted avg       0.71      0.71      0.71      4000\n",
            "\n"
          ]
        }
      ],
      "source": [
        "#SVM on linear Kernel\n",
        "from sklearn.svm import SVC\n",
        "svm = SVC(kernel='linear')\n",
        "svm.fit(x_train, y_train)\n",
        "svm_pred = svm.predict(x_test)\n",
        "acc = accuracy_score(svm_pred, y_test)\n",
        "print(acc)\n",
        "dict['Support Vector Machine Linear'] = acc*100\n",
        "print(\"\\n\")\n",
        "print(confusion_matrix(y_test,svm_pred))\n",
        "print(\"\\n\")\n",
        "print(classification_report(y_test,svm_pred))"
      ]
    },
    {
      "cell_type": "code",
      "execution_count": null,
      "metadata": {
        "id": "rRd-eyuvauqW"
      },
      "outputs": [],
      "source": []
    },
    {
      "cell_type": "code",
      "execution_count": null,
      "metadata": {
        "colab": {
          "base_uri": "https://localhost:8080/"
        },
        "id": "FoO2YkLxhRq-",
        "outputId": "32276cd1-ca12-4fbf-8241-d6d4c66ae0a1"
      },
      "outputs": [
        {
          "output_type": "stream",
          "name": "stdout",
          "text": [
            "0.4555\n",
            "\n",
            "\n",
            "[[ 104   43    2  518]\n",
            " [  20  498    9  702]\n",
            " [  23   49  164  757]\n",
            " [  36   13    6 1056]]\n",
            "\n",
            "\n",
            "              precision    recall  f1-score   support\n",
            "\n",
            "  Irrelevant       0.57      0.16      0.24       667\n",
            "    Negative       0.83      0.41      0.54      1229\n",
            "     Neutral       0.91      0.17      0.28       993\n",
            "    Positive       0.35      0.95      0.51      1111\n",
            "\n",
            "    accuracy                           0.46      4000\n",
            "   macro avg       0.66      0.42      0.39      4000\n",
            "weighted avg       0.67      0.46      0.42      4000\n",
            "\n"
          ]
        }
      ],
      "source": [
        "#SVM on polynomial Kernel\n",
        "from sklearn.svm import SVC\n",
        "svm = SVC(kernel='poly')\n",
        "svm.fit(x_train, y_train)\n",
        "svm_pred = svm.predict(x_test)\n",
        "acc = accuracy_score(svm_pred, y_test)\n",
        "print(acc)\n",
        "dict['Support Vector Machine Poly'] = acc*100\n",
        "print(\"\\n\")\n",
        "print(confusion_matrix(y_test,svm_pred))\n",
        "print(\"\\n\")\n",
        "print(classification_report(y_test,svm_pred))"
      ]
    },
    {
      "cell_type": "code",
      "execution_count": null,
      "metadata": {
        "id": "oMMPRNl5h2FZ"
      },
      "outputs": [],
      "source": []
    },
    {
      "cell_type": "code",
      "execution_count": null,
      "metadata": {
        "colab": {
          "base_uri": "https://localhost:8080/"
        },
        "id": "LxSAU_V4iYR9",
        "outputId": "9b8915f5-e8ff-4f09-9319-86c22d75c6b0"
      },
      "outputs": [
        {
          "output_type": "stream",
          "name": "stdout",
          "text": [
            "0.5935\n",
            "\n",
            "\n",
            "[[299 115 114 139]\n",
            " [107 779 171 172]\n",
            " [ 85 143 621 144]\n",
            " [ 97 166 173 675]]\n",
            "\n",
            "\n",
            "              precision    recall  f1-score   support\n",
            "\n",
            "  Irrelevant       0.51      0.45      0.48       667\n",
            "    Negative       0.65      0.63      0.64      1229\n",
            "     Neutral       0.58      0.63      0.60       993\n",
            "    Positive       0.60      0.61      0.60      1111\n",
            "\n",
            "    accuracy                           0.59      4000\n",
            "   macro avg       0.58      0.58      0.58      4000\n",
            "weighted avg       0.59      0.59      0.59      4000\n",
            "\n"
          ]
        }
      ],
      "source": [
        "#Decision Tree\n",
        "from sklearn.tree import DecisionTreeClassifier as DTC\n",
        "des_tree = DTC(criterion = 'entropy')\n",
        "des_tree.fit(x_train, y_train)\n",
        "dtc_pred = des_tree.predict(x_test)\n",
        "acc = accuracy_score(dtc_pred, y_test)\n",
        "print(acc)\n",
        "dict['Decision Tree Classification'] = acc*100\n",
        "print(\"\\n\")\n",
        "print(confusion_matrix(y_test,dtc_pred))\n",
        "print(\"\\n\")\n",
        "print(classification_report(y_test,dtc_pred))"
      ]
    },
    {
      "cell_type": "code",
      "execution_count": null,
      "metadata": {
        "colab": {
          "base_uri": "https://localhost:8080/"
        },
        "id": "W5XJy0Zpi9NC",
        "outputId": "2dfad33d-049b-451a-abc6-5bfb2ef45611"
      },
      "outputs": [
        {
          "output_type": "stream",
          "name": "stdout",
          "text": [
            "0.61125\n",
            "\n",
            "\n",
            "[[299 141  87 140]\n",
            " [ 75 864 127 163]\n",
            " [ 66 192 589 146]\n",
            " [ 69 197 152 693]]\n",
            "\n",
            "\n",
            "              precision    recall  f1-score   support\n",
            "\n",
            "  Irrelevant       0.59      0.45      0.51       667\n",
            "    Negative       0.62      0.70      0.66      1229\n",
            "     Neutral       0.62      0.59      0.60       993\n",
            "    Positive       0.61      0.62      0.62      1111\n",
            "\n",
            "    accuracy                           0.61      4000\n",
            "   macro avg       0.61      0.59      0.60      4000\n",
            "weighted avg       0.61      0.61      0.61      4000\n",
            "\n"
          ]
        }
      ],
      "source": [
        "#Random Forest\n",
        "from sklearn.ensemble import RandomForestClassifier as RFC\n",
        "rfc = RFC(n_estimators=5, criterion='entropy')\n",
        "rfc.fit(x_train, y_train)\n",
        "rfc_pred = rfc.predict(x_test)\n",
        "acc = accuracy_score(rfc_pred, y_test)\n",
        "print(acc)\n",
        "dict['RandomForestClassifier'] = acc*100\n",
        "print(\"\\n\")\n",
        "print(confusion_matrix(y_test,rfc_pred))\n",
        "print(\"\\n\")\n",
        "print(classification_report(y_test,rfc_pred))"
      ]
    },
    {
      "cell_type": "code",
      "execution_count": null,
      "metadata": {
        "id": "G4oHMvzzjdeC"
      },
      "outputs": [],
      "source": []
    },
    {
      "cell_type": "code",
      "execution_count": null,
      "metadata": {
        "id": "eMjPNsSiWXSe"
      },
      "outputs": [],
      "source": [
        "#Linear Regression is a type of classification used for Regression problem.\n",
        "\n",
        "# from sklearn import preprocessing\n",
        "# label_encoder = preprocessing.LabelEncoder()\n",
        "# lr_y= label_encoder.fit_transform(y_train)\n",
        "# test_y = label_encoder.fit_transform(y_test)"
      ]
    },
    {
      "cell_type": "code",
      "execution_count": null,
      "metadata": {
        "id": "fiowieaGUYdS"
      },
      "outputs": [],
      "source": [
        "# from sklearn.linear_model import LinearRegression\n",
        "# lr = LinearRegression()\n",
        "# lr.fit(x_train, lr_y)\n",
        "# # lr_pred = lr.predict(x_test)\n",
        "# print(lr.score(x_test, test_y))"
      ]
    },
    {
      "cell_type": "code",
      "execution_count": null,
      "metadata": {
        "id": "TE0-vYdIX4mh"
      },
      "outputs": [],
      "source": [
        "# from sklearn.preprocessing import StandardScaler\n",
        "# scaler = StandardScaler()\n",
        "# scaler.fit(x_train)\n",
        "# X_train = scaler.transform(x_train)\n",
        "# X_test = scaler.transform(x_test)"
      ]
    },
    {
      "cell_type": "code",
      "execution_count": null,
      "metadata": {
        "colab": {
          "base_uri": "https://localhost:8080/"
        },
        "id": "E7HeyY3iXj11",
        "outputId": "4634962f-2a6e-4340-db26-dc93714e18f7"
      },
      "outputs": [
        {
          "output_type": "stream",
          "name": "stdout",
          "text": [
            "0.49625\n",
            "\n",
            "\n",
            "[[248 125 124 170]\n",
            " [ 91 700 228 210]\n",
            " [101 202 486 204]\n",
            " [111 199 250 551]]\n",
            "\n",
            "\n",
            "              precision    recall  f1-score   support\n",
            "\n",
            "  Irrelevant       0.45      0.37      0.41       667\n",
            "    Negative       0.57      0.57      0.57      1229\n",
            "     Neutral       0.45      0.49      0.47       993\n",
            "    Positive       0.49      0.50      0.49      1111\n",
            "\n",
            "    accuracy                           0.50      4000\n",
            "   macro avg       0.49      0.48      0.48      4000\n",
            "weighted avg       0.50      0.50      0.50      4000\n",
            "\n"
          ]
        }
      ],
      "source": [
        "from sklearn.neighbors import KNeighborsClassifier\n",
        "knn = KNeighborsClassifier(n_neighbors = 5)\n",
        "knn.fit(x_train, y_train)\n",
        "knn_pred = knn.predict(x_test)\n",
        "acc = accuracy_score(knn_pred, y_test)\n",
        "print(acc)\n",
        "dict['KNN'] = acc*100\n",
        "print(\"\\n\")\n",
        "print(confusion_matrix(y_test,knn_pred))\n",
        "print(\"\\n\")\n",
        "print(classification_report(y_test,knn_pred))"
      ]
    },
    {
      "cell_type": "code",
      "execution_count": null,
      "metadata": {
        "id": "ACpLQTffYW6b"
      },
      "outputs": [],
      "source": []
    },
    {
      "cell_type": "code",
      "execution_count": null,
      "metadata": {
        "colab": {
          "base_uri": "https://localhost:8080/"
        },
        "id": "0k19VVN2Z4Ea",
        "outputId": "56a9ee98-fc4b-4027-f7fd-7975c4792346"
      },
      "outputs": [
        {
          "output_type": "stream",
          "name": "stdout",
          "text": [
            "0.351\n",
            "\n",
            "\n",
            "[[   1  653    1   12]\n",
            " [   0 1221    0    8]\n",
            " [   0  931   42   20]\n",
            " [   0  970    1  140]]\n",
            "\n",
            "\n",
            "              precision    recall  f1-score   support\n",
            "\n",
            "  Irrelevant       1.00      0.00      0.00       667\n",
            "    Negative       0.32      0.99      0.49      1229\n",
            "     Neutral       0.95      0.04      0.08       993\n",
            "    Positive       0.78      0.13      0.22      1111\n",
            "\n",
            "    accuracy                           0.35      4000\n",
            "   macro avg       0.76      0.29      0.20      4000\n",
            "weighted avg       0.72      0.35      0.23      4000\n",
            "\n"
          ]
        }
      ],
      "source": [
        "from sklearn.ensemble import GradientBoostingClassifier\n",
        "gbc=GradientBoostingClassifier(n_estimators=500,learning_rate=0.05,random_state=100,max_features=5 )\n",
        "gbc.fit(x_train,y_train)\n",
        "gbc_pred = gbc.predict(x_test)\n",
        "acc = accuracy_score(gbc_pred, y_test)\n",
        "print(acc)\n",
        "dict['Gradient Boosting Classifier'] = acc*100\n",
        "print(\"\\n\")\n",
        "print(confusion_matrix(y_test,gbc_pred))\n",
        "print(\"\\n\")\n",
        "print(classification_report(y_test,gbc_pred))"
      ]
    },
    {
      "cell_type": "code",
      "execution_count": null,
      "metadata": {
        "id": "OthqC0Z6aRLg"
      },
      "outputs": [],
      "source": []
    },
    {
      "cell_type": "code",
      "execution_count": null,
      "metadata": {
        "id": "nhyCvSmncBIY",
        "colab": {
          "base_uri": "https://localhost:8080/"
        },
        "outputId": "199e8d16-eb79-406e-ac54-10bd6d91f812"
      },
      "outputs": [
        {
          "output_type": "stream",
          "name": "stdout",
          "text": [
            "{'LogesticRegression': 74.97500000000001, 'Support Vector Machine Sigmoid': 58.175, 'Support Vector Machine RBF': 66.07499999999999, 'Support Vector Machine Linear': 71.35000000000001, 'Support Vector Machine Poly': 45.550000000000004, 'Decision Tree Classification': 59.35, 'RandomForestClassifier': 61.12499999999999, 'KNN': 49.625, 'Gradient Boosting Classifier': 35.099999999999994}\n"
          ]
        }
      ],
      "source": [
        "print(dict)"
      ]
    },
    {
      "cell_type": "code",
      "execution_count": null,
      "metadata": {
        "id": "oFlnyivQ02la"
      },
      "outputs": [],
      "source": []
    },
    {
      "cell_type": "code",
      "execution_count": null,
      "metadata": {
        "id": "TJjAH4m0B6ro",
        "colab": {
          "base_uri": "https://localhost:8080/",
          "height": 295
        },
        "outputId": "ac8897f4-9322-47ef-eac6-017ac6602437"
      },
      "outputs": [
        {
          "output_type": "display_data",
          "data": {
            "text/plain": [
              "<Figure size 432x288 with 1 Axes>"
            ],
            "image/png": "[encoded data removed]"
          },
          "metadata": {
            "needs_background": "light"
          }
        }
      ],
      "source": [
        "import matplotlib.pylab as plot\n",
        "\n",
        "data = dict.items()\n",
        "# data = sorted(data)\n",
        "\n",
        "x, y = zip(*data)\n",
        "\n",
        "plot.plot(x, y)\n",
        "plot.xlabel('Accuracy')\n",
        "plot.ylabel('Classifier Used')\n",
        "plot.title('Comparision')\n",
        "plot.ylim(0,100)\n",
        "plot.show()"
      ]
    }
  ],
  "metadata": {
    "colab": {
      "provenance": []
    },
    "kernelspec": {
      "display_name": "Python 3",
      "name": "python3"
    },
    "language_info": {
      "name": "python"
    }
  },
  "nbformat": 4,
  "nbformat_minor": 0
}